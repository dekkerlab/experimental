{
 "cells": [
  {
   "cell_type": "code",
   "execution_count": 1,
   "metadata": {},
   "outputs": [],
   "source": [
    "# Setup the environment first\n",
    "\n",
    "# read: https://github.com/mirnylab/cooler/issues/138 for more details:\n",
    "\n",
    "# !export MKL_NUM_THREADS=1 - # not working in a notebook ((\n",
    "# instead do this, after making sure mkl is installed\n",
    "import mkl\n",
    "mkl.set_num_threads(1)\n",
    "\n"
   ]
  },
  {
   "cell_type": "code",
   "execution_count": 2,
   "metadata": {},
   "outputs": [],
   "source": [
    "# are you developing?\n",
    "# turn module reloading on\n",
    "\n",
    "# %load_ext autoreload\n",
    "# %autoreload 2"
   ]
  },
  {
   "cell_type": "code",
   "execution_count": 3,
   "metadata": {},
   "outputs": [],
   "source": [
    "# neccessary modules to be imported\n",
    "\n",
    "import os.path as op\n",
    "from scipy.stats import poisson\n",
    "import pandas as pd\n",
    "import numpy as np\n",
    "import cooler\n",
    "\n",
    "from cooltools import dotfinder\n",
    "\n",
    "%matplotlib inline\n",
    "import matplotlib.cm as cm\n",
    "import matplotlib.pyplot as plt\n",
    "import matplotlib.colors as colors\n",
    "import matplotlib.ticker as ticker"
   ]
  },
  {
   "cell_type": "code",
   "execution_count": 4,
   "metadata": {},
   "outputs": [],
   "source": [
    "# input files - coolers and expected:\n",
    "path = \"/home/venevs/DOTS_TESTING/ztotova\"\n",
    "basename_STAG = \"ZT-KO-STAG2.hg19.mapq_30\"\n",
    "basename_WT = \"ZT-WT.hg19.mapq_30\"\n",
    "\n",
    "\n",
    "# this is a 10kb cooler file\n",
    "# and we should also have expected calculated for 10kb\n",
    "\n",
    "resolution = \"10000\"\n",
    "\n",
    "stag_cool = \"{}/{}.1000.mcool::/resolutions/{}\".format(path,basename_STAG,resolution)\n",
    "wt_cool = \"{}/{}.1000.mcool::/resolutions/{}\".format(path,basename_WT,resolution)\n",
    "\n",
    "# after checking this expected - ignores 2 diagonals\n",
    "stag_exp = \"{}/{}.{}.expected\".format(path,basename_STAG,resolution)\n",
    "wt_exp = \"{}/{}.{}.expected\".format(path,basename_WT,resolution)\n",
    "\n",
    "\n",
    "# keeping some of the relevant CLI commands here\n",
    "# useful for preprocessing cooler files - before calling dots\n",
    "\n",
    "# 1. re-balancing - cis-only is worth checking out at the very least ...\n",
    "# cooler balance -p {threads} --ignore-diags 1 --force --name 'wsnake' {input}::/resolutions/{res}\n",
    "\n",
    "# 2. calculation of expected\n",
    "# cooltools compute-expected -p {threads} --weight-name 'wsnake' --drop-diags 1 {input[0]}::/resolutions/{res}\n"
   ]
  },
  {
   "cell_type": "markdown",
   "metadata": {},
   "source": [
    "### provide arguments to replace CLI interface\n",
    "\n",
    "instead of providing comman line arguments to the `call-dots` tool we are going to provide corresponding argumnets right in the notebook:"
   ]
  },
  {
   "cell_type": "code",
   "execution_count": 5,
   "metadata": {},
   "outputs": [],
   "source": [
    "# specify parameters for call-dots\n",
    "cool_path = stag_cool\n",
    "expected_path = stag_exp\n",
    "expected_name = 'balanced.avg'\n",
    "nproc = 8\n",
    "max_loci_separation = 5000000\n",
    "max_nans_tolerated = 4\n",
    "tile_size = 10000000\n",
    "fdr = 0.1\n",
    "dots_clustering_radius = 21000\n",
    "verbose = True\n",
    "balancing_weight_name = \"weight\"\n",
    "output_scores = 'xxx'\n",
    "output_hists = 'yyy'\n",
    "output_calls = 'zzz'\n",
    "score_dump_mode = 'parquet'\n",
    "# score_dump_mode = 'local'\n",
    "temp_dir = './'\n",
    "no_delete_temp = True"
   ]
  },
  {
   "cell_type": "markdown",
   "metadata": {},
   "source": [
    "### load cooler and expected"
   ]
  },
  {
   "cell_type": "code",
   "execution_count": 6,
   "metadata": {},
   "outputs": [
    {
     "name": "stdout",
     "output_type": "stream",
     "text": [
      "Tokenization took: 44.27 ms\n",
      "Type conversion took: 20.67 ms\n",
      "Parser memory cleanup took: 0.01 ms\n",
      "Tokenization took: 34.80 ms\n",
      "Type conversion took: 20.01 ms\n",
      "Parser memory cleanup took: 0.00 ms\n",
      "Tokenization took: 11.65 ms\n",
      "Type conversion took: 7.20 ms\n",
      "Parser memory cleanup took: 0.00 ms\n"
     ]
    }
   ],
   "source": [
    "clr = cooler.Cooler(cool_path)\n",
    "\n",
    "expected_columns = ['chrom', 'diag', 'n_valid', expected_name]\n",
    "expected_index = ['chrom', 'diag']\n",
    "expected_dtypes = {\n",
    "    'chrom': np.str,\n",
    "    'diag': np.int64,\n",
    "    'n_valid': np.int64,\n",
    "    expected_name: np.float64\n",
    "}\n",
    "expected = pd.read_table(\n",
    "    expected_path,\n",
    "    usecols=expected_columns,\n",
    "    index_col=expected_index,\n",
    "    dtype=expected_dtypes,\n",
    "    comment=None,\n",
    "    verbose=verbose)\n",
    "# include Geoff's fix for the datatypes in expected"
   ]
  },
  {
   "cell_type": "markdown",
   "metadata": {},
   "source": [
    "### we'll do everyhting for `chr1` only to save time (reconsider it later ...)\n",
    "\n",
    "demonstration purposes only this way ..."
   ]
  },
  {
   "cell_type": "code",
   "execution_count": 7,
   "metadata": {},
   "outputs": [],
   "source": [
    "# beware of chromosome naming converntion, i.e. \"chr1\" vs \"1\" ...\n",
    "expected = expected.loc[[\"chr1\"]]"
   ]
  },
  {
   "cell_type": "markdown",
   "metadata": {},
   "source": [
    "### some validation\n",
    "Just making sure that expected anb cooler are \"compatible\"\n",
    "i.e. they refer to the same chromosomes and those chromosomes have the same length"
   ]
  },
  {
   "cell_type": "code",
   "execution_count": 8,
   "metadata": {},
   "outputs": [
    {
     "name": "stdout",
     "output_type": "stream",
     "text": [
      "/home/venevs/DOTS_TESTING/ztotova/ZT-KO-STAG2.hg19.mapq_30.1000.mcool::/resolutions/10000 and /home/venevs/DOTS_TESTING/ztotova/ZT-KO-STAG2.hg19.mapq_30.10000.expected passed cross-compatibility checks.\n"
     ]
    }
   ],
   "source": [
    "# Input validation\n",
    "# unique list of chroms mentioned in expected_path\n",
    "# do simple column-name validation for now\n",
    "get_exp_chroms = lambda df: df.index.get_level_values(\"chrom\").unique()\n",
    "expected_chroms = get_exp_chroms(expected)\n",
    "if not set(expected_chroms).issubset(clr.chromnames):\n",
    "    raise ValueError(\n",
    "        \"Chromosomes in {} must be subset of \".format(expected_path) +\n",
    "        \"chromosomes in cooler {}\".format(cool_path))\n",
    "# check number of bins\n",
    "# compute # of bins by comparing matching indexes\n",
    "get_exp_bins = lambda df, ref_chroms: (\n",
    "    df.index.get_level_values(\"chrom\").isin(ref_chroms).sum())\n",
    "expected_bins = get_exp_bins(expected, expected_chroms)\n",
    "cool_bins = clr.bins()[:][\"chrom\"].isin(expected_chroms).sum()\n",
    "if not (expected_bins == cool_bins):\n",
    "    raise ValueError(\n",
    "        \"Number of bins is not matching: \",\n",
    "        \"{} in {}, and {} in {} for chromosomes {}\".format(\n",
    "            expected_bins,\n",
    "            expected_path,\n",
    "            cool_bins,\n",
    "            cool_path,\n",
    "            expected_chroms))\n",
    "if verbose:\n",
    "    print(\"{} and {} passed cross-compatibility checks.\".format(\n",
    "        cool_path, expected_path))"
   ]
  },
  {
   "cell_type": "markdown",
   "metadata": {},
   "source": [
    "### prepare some other parameters "
   ]
  },
  {
   "cell_type": "code",
   "execution_count": 9,
   "metadata": {},
   "outputs": [
    {
     "name": "stdout",
     "output_type": "stream",
     "text": [
      "we are dealing with the data binned at 10000\n"
     ]
    }
   ],
   "source": [
    "# Prepare some parameters.\n",
    "binsize = clr.binsize\n",
    "loci_separation_bins = int(max_loci_separation / binsize)\n",
    "tile_size_bins = int(tile_size / binsize)\n",
    "balance_factor = 1.0  #clr._load_attrs(\"bins/weight\")[\"scale\"]\n",
    "\n",
    "print(\"we are dealing with the data binned at {}\".format(binsize))\n",
    "\n",
    "# clustering would deal with bases-units for now, so supress this for now\n",
    "# clustering_radius_bins = int(dots_clustering_radius/binsize)\n",
    "\n",
    "# pre-defined kernel types that are going to be used in the analysis\n",
    "ktypes = ['donut', 'vertical', 'horizontal', 'lowleft']"
   ]
  },
  {
   "cell_type": "markdown",
   "metadata": {},
   "source": [
    "### Kernels used to define local enrichment of a pixel\n",
    "\n",
    " - Dots observed on Hi-C heatmaps as *small* and concentrated clusters of locally enriched pixels.\n",
    " - Biologically relevant sizes of such clusters and their surroundings are empirically defined at `~50kb` for the diameter of clusters, and `~100kb` for the diameter of the local surrounding\n",
    " - Several types of kernels (i.e. local environments) could be used to rule out unwanted enrichment types, e.g. elongated clusters, large corners, etc.\n",
    " - One can choose from pre-defined set of kernels from *Rao et al 2014*, or provide custome ones\n",
    " - Even for the predefined set of kernels one can control their parameters `w` and `p`, where `2w+1` is the outter dimensions of kernel's footprint and `2p+1` is the inner one, the approximate size of an enriched cluster of pixels\n",
    " - function `recommend_kernel_params` would yield recommended `w` and `p` for a given bin size, as in *Rao et al 2014*, otherwise feel free to experiment with those"
   ]
  },
  {
   "cell_type": "code",
   "execution_count": 78,
   "metadata": {},
   "outputs": [
    {
     "name": "stdout",
     "output_type": "stream",
     "text": [
      "Kernel parameters w=5 p=2\n"
     ]
    }
   ],
   "source": [
    "w,p = dotfinder.recommend_kernel_params(binsize)\n",
    "print(\"Kernel parameters w={} p={}\".format(w,p))\n",
    "\n",
    "\n",
    "w,p=6,3\n",
    "\n",
    "kernels = {k: dotfinder.get_kernel(w, p, k) for k in ktypes}\n",
    "# list of tile coordinate ranges\n",
    "tiles = list(\n",
    "    dotfinder.heatmap_tiles_generator_diag(\n",
    "        clr,\n",
    "        expected_chroms,\n",
    "        w,\n",
    "        tile_size_bins,\n",
    "        loci_separation_bins\n",
    "    )\n",
    ")   "
   ]
  },
  {
   "cell_type": "code",
   "execution_count": 80,
   "metadata": {},
   "outputs": [
    {
     "data": {
      "text/plain": [
       "[Text(1, 0, 'Excluded from calculation'),\n",
       " Text(1, 0, 'Included in calculations')]"
      ]
     },
     "execution_count": 80,
     "metadata": {},
     "output_type": "execute_result"
    },
    {
     "data": {
      "image/png": "[encoded data removed]",
      "text/plain": [
       "<Figure size 864x180 with 5 Axes>"
      ]
     },
     "metadata": {
      "needs_background": "light"
     },
     "output_type": "display_data"
    }
   ],
   "source": [
    "# it is important to demonstrate filters here \n",
    "# consider moving plotting code elsewhere or simplify it significantly ...\n",
    "# split cell above and demonstrate kernels - it's nice:\n",
    "def draw_kernel(kernel,\n",
    "                axis,\n",
    "                cmap='viridis'):\n",
    "    # kernel:\n",
    "    imk = axis.imshow(\n",
    "                    kernel[::-1,::-1],\n",
    "                    alpha=0.7,\n",
    "                    cmap=cmap,\n",
    "                    interpolation='nearest')\n",
    "    # clean axis:\n",
    "    axis.set_xticks([])\n",
    "    axis.set_yticks([])\n",
    "    axis.set_xticklabels('',visible=False)\n",
    "    axis.set_yticklabels('',visible=False)\n",
    "    axis.set_title(\"{} kernel\".format(ktype),fontsize=16)\n",
    "    # add a checkerboard to highlight pixels:\n",
    "    checkerboard = np.add.outer(range(kernel.shape[0]),\n",
    "                                range(kernel.shape[1])) % 2\n",
    "    # show it:\n",
    "    axis.imshow(checkerboard,\n",
    "            cmap='gray',\n",
    "            interpolation='nearest',\n",
    "            alpha=0.3)\n",
    "    #\n",
    "    return imk\n",
    "\n",
    "fig = plt.figure(figsize=(12,2.5))\n",
    "gs = plt.GridSpec(nrows=1,\n",
    "            ncols=5,\n",
    "            figure=fig,\n",
    "            width_ratios=[1,1,1,1,0.1])\n",
    "\n",
    "for i,ktype in enumerate(ktypes):\n",
    "    kernel= kernels[ktype]\n",
    "    ax = plt.subplot(gs[i])\n",
    "    imk = draw_kernel(kernel,ax)\n",
    "    \n",
    "# colorbar and that's it:\n",
    "ax = plt.subplot(gs[i+1])\n",
    "cb = fig.colorbar(imk, cax=ax)\n",
    "cb.ax.get_yaxis().set_major_locator(ticker.MaxNLocator(1))\n",
    "cb.ax.set_yticklabels(['Excluded from calculation','Included in calculations'])"
   ]
  },
  {
   "cell_type": "markdown",
   "metadata": {},
   "source": [
    "a little remark on the `lowleft` kernel:\n",
    " - by the definition of convolution, it implies integrating f(x)*g(-x) ...\n",
    " - in other words the kernel is being \"flipped\" when it is applied to a matrix\n",
    " - we should try to make it explicit or hide it away on a better way"
   ]
  },
  {
   "cell_type": "markdown",
   "metadata": {},
   "source": [
    "### Getting to the calculations of locally-adjusted expected\n",
    "\n",
    " - for demonstration and debugging purposes we are going to dump the dataframe with locally adjusted expected right in place (i.e. in memory).\n",
    " - This might be also ok for smaller genomes and potentially for small subsets of large genomes.\n",
    " - This is not recommended whatsoever for genome-wide dot-calling.\n",
    "\n",
    "A side note, we've tried to store all of the values in a separate file,\n",
    "but practice shows that for large genomes even parquet/hdf5 are not fast enough.\n",
    "Thus using a **2-pass** strategy seems to be the best option indeed.\n",
    "\n",
    "**2-pass**: calculate locally-adjusted expected for each pixel and use this value *immediately* to build a histogram with predefined bins, then recalculate locally-adjusted expected values and again use them *in place* to select significantly enriched pixels.\n",
    "\n",
    "\n",
    " - an example on how to store locally adjusted expected in a temporary file:\n",
    "```python\n",
    "import tempfile\n",
    "tmp_scores = tempfile.NamedTemporaryFile(\n",
    "    suffix='.parquet',\n",
    "    delete= False,\n",
    "    dir='.')\n",
    "```\n",
    " - now calculate locally adjusted expected (not performed in the call-dots command line implementation):\n",
    "```python\n",
    "loc_adj_exp = dotfinder.scoring_step(clr,\n",
    "                    expected,\n",
    "                    expected_name,\n",
    "                    \"weight\",\n",
    "                    tiles,\n",
    "                    kernels,\n",
    "                    max_nans_tolerated,\n",
    "                    loci_separation_bins,\n",
    "                    tmp_scores,\n",
    "                    nproc,\n",
    "                    score_dump_mode,\n",
    "                    verbose)\n",
    "```\n",
    " - histogramming using temporary input (this steps is performed in actual call-dots implementation and it involves de novo calculation of locally adjusted expected for each surveyed pixel):\n",
    "```python\n",
    "gw_hist = dotfinder.histogramming_step(tmp_scores,\n",
    "                                    score_dump_mode,\n",
    "                                    kernels,\n",
    "                                    ledges,\n",
    "                                    output_path=None,\n",
    "                                    nproc=1,\n",
    "                                    verbose=False)\n",
    "```"
   ]
  },
  {
   "cell_type": "code",
   "execution_count": 81,
   "metadata": {},
   "outputs": [
    {
     "name": "stdout",
     "output_type": "stream",
     "text": [
      "Preparing to convolve 49 tiles:\n",
      "creating a Pool of 8 workers to tackle 49 tiles\n",
      "returning local copy of the dataframe ...\n"
     ]
    }
   ],
   "source": [
    "# locally adjusted returned in place for just 1 chromosome:\n",
    "# beware: this step is not performed in the actual call-dots CLI implementation\n",
    "la_exp = dotfinder.scoring_step(clr,\n",
    "                    expected,\n",
    "                    expected_name,\n",
    "                    balancing_weight_name,\n",
    "                    tiles,\n",
    "                    kernels,\n",
    "                    1,\n",
    "                    loci_separation_bins,\n",
    "                    None,\n",
    "                    nproc,\n",
    "                    \"local\",\n",
    "                    verbose)"
   ]
  },
  {
   "cell_type": "markdown",
   "metadata": {},
   "source": [
    "### that is how locally adjusted expected dataframe looks like:\n",
    "\n",
    "bin1_id|bin2_id|count|la_exp.donut.value|la_exp.vertical.value|la_exp.horizontal.value|la_exp.lowleft.value\n",
    "---|---|---|---|---|---|---\n",
    "76|87|20|16.343724585366036|19.112339277607475|14.789222300465001|17.55971648783403\n",
    "76|88|29|21.109446293886823|23.76004284738352|19.119195822013385|23.30209962326733\n",
    "76|89|15|17.254427190306977|18.545853810657224|14.695003640984938|19.784933947834944\n",
    "76|90|21|14.277047600786759|14.642767228999286|12.928217571836717|17.27371365389384\n",
    "76|91|13|11.22588212884422|11.279966641429564|10.064704945467405|14.514049136987758\n",
    "\n",
    " - here we use `cooler`-based `bin1/2_id` instead of actual genomic coordinates for compactness and performance reasons.\n",
    " - Observed is recorded in the `count` columns, again as in the parent `cooler`-file.\n",
    " - observer and all types of expected are expressed in the raw units in order to apply Poisson statistics to the data"
   ]
  },
  {
   "cell_type": "markdown",
   "metadata": {},
   "source": [
    "### Scatter plot of observed vs expected\n",
    "\n",
    "A scatter plot with observed vs expected should be a good \"platform\" for understanding what a dot-calling is:"
   ]
  },
  {
   "cell_type": "code",
   "execution_count": 82,
   "metadata": {},
   "outputs": [
    {
     "data": {
      "image/png": "[encoded data removed]",
      "text/plain": [
       "<Figure size 504x360 with 2 Axes>"
      ]
     },
     "metadata": {
      "needs_background": "light"
     },
     "output_type": "display_data"
    }
   ],
   "source": [
    "def quick_obs_exp_scatter(data,\n",
    "                          axis,\n",
    "                          xlabel='la_exp.donut.value',\n",
    "                          ylabel='count'):\n",
    "    # obs exp\n",
    "    # the base scatter:\n",
    "    sct = axis.scatter(data[xlabel],\n",
    "                      data[ylabel],\n",
    "                      # color dots on the scatter by their genomic separation\n",
    "                      c=data['bin2_id']-data['bin1_id'],\n",
    "                      vmin=0,\n",
    "                      vmax = 100,\n",
    "                      cmap=\"YlOrRd_r\")\n",
    "    # we can add a visual of the lambda-chunking grid on top of obs/exp scatter ...\n",
    "    # plt.vlines(ledges[1:-15],ymin=0.5,ymax=900,color='red')\n",
    "    axis.set_xscale('log')\n",
    "    axis.set_yscale('log')\n",
    "    # limits\n",
    "    axis.set_xlim(0.5,700)\n",
    "    axis.set_ylim(0.5,1200)\n",
    "    # labels\n",
    "    axis.set_ylabel(ylabel)\n",
    "    axis.set_xlabel(xlabel)\n",
    "    # return axes\n",
    "    return sct\n",
    "\n",
    "\n",
    "\n",
    "fig = plt.figure(figsize=(7,5))\n",
    "gs = plt.GridSpec(nrows=1,\n",
    "            ncols=2,\n",
    "            figure=fig,\n",
    "            width_ratios=[1,0.1])\n",
    "\n",
    "# we might consider \"downsampling\" la_exp dataframe in order to make obs/exp scatter plot less busy:\n",
    "data = la_exp.sample(frac=0.2)\n",
    "ax = plt.subplot(gs[0])\n",
    "sct = quick_obs_exp_scatter(data,ax)\n",
    "\n",
    "\n",
    "# y=x line to highlight the \"enriched\" pixels ...\n",
    "ax.plot(ax.get_xlim(),ax.get_ylim(),'b-',label='obs=exp')\n",
    "ax.legend(loc='best')\n",
    "\n",
    "# cbar\n",
    "cb = plt.colorbar(sct,cax=plt.subplot(gs[1]))\n",
    "cb.ax.get_yaxis().set_major_locator(ticker.MaxNLocator(1))\n",
    "# cb.ax.set_yticklabels(['Excluded from calculation','Included in calculations'])\n",
    "\n",
    "# enriched = data[data[ylabel]/data[xlabel]>1]\n",
    "# ax.scatter(enriched[xlabel],\n",
    "#             enriched[ylabel],\n",
    "#             s=80,\n",
    "#             facecolors='none',\n",
    "#             edgecolors='b')"
   ]
  },
  {
   "cell_type": "markdown",
   "metadata": {},
   "source": [
    "Obs vs exp scatter plot highlights the enriched pixels:\n",
    " - pixels that are above the blue line `obs=exp` are all \"enriched\", i.e. for all of them `obs` is more than `exp`.\n",
    " - Problem is, such a naive way of extracting enriched interactions yields too many false positives\n",
    " - should we show a heatmap of all of such \"enriched\" pixels - to demonstrate that it's not so good ?!\n",
    " - we need to do more rigorous statistical analysis to extract \"significantly\" enriched pixels instead.\n",
    " \n",
    "###### little remark about the group of pixels deviating from the \"general trend\" on the obs/exp scatter:\n",
    "such deviating pixels have high expected for relatively small observed - and they are originating from the balancing artifacts,\n",
    " - i.e. poor coverage loci that should have been filtered from the final balanced matrix (MAD-max filter I believe is responsible for that).\n",
    " - Instead such pixels are yielding very low observed for relativaly high expecteds, example: `chr1:155,755,979-156,246,531 & chr1:155,845,682-156,249,877` at 10kb zoom-level. \n",
    " - that's how they can be fished out from the croud: `la_exp[(la_exp[\"count\"]<0.35*la_exp[\"la_exp.donut.value\"])&(la_exp[\"la_exp.donut.value\"]>44)]`"
   ]
  },
  {
   "cell_type": "markdown",
   "metadata": {},
   "source": [
    "### Now let's load in, some known called/annotated dots to see where they end up on the obs/exp scatter-plot\n",
    "\n",
    "we would use this pre-called dots to see them on our obs/exp scatter plot, later"
   ]
  },
  {
   "cell_type": "code",
   "execution_count": 60,
   "metadata": {},
   "outputs": [],
   "source": [
    "# # let us read in some of the known dots to display stronger ones on the obs/exp scatter plot:\n",
    "# raodots = pd.read_csv(RAOLOOPS,sep='\\t')\n",
    "# # beware of the UCSC/NCBI chromosome naming conventions `X` vs `chrX` ...\n",
    "# raodots_chr1 = raodots[raodots['chr1']=='1']\n",
    "\n",
    "# # do we need a notion of strength here ?\n",
    "# # #let's quickly define some measure of strengths for the dots:\n",
    "# # raodots_chr1['strength'] = raodots_chr1['o']/raodots_chr1['e_donut']\n",
    "# # # now sort and select only the strongest (according to this measure):\n",
    "# # raodots_chr1_strong = raodots_chr1.sort_values(by=['o','strength'],ascending=False)\n",
    "\n",
    "# # let's convert genomic coordinates into `cooler`-based bin_id-s:\n",
    "# bin1_ids = (raodots_chr1['x1']/binsize).astype('int')\n",
    "# bin2_ids = (raodots_chr1['y1']/binsize).astype('int')\n",
    "# # beware Rao et al, use x1,x2 for start1,end1 and y1,y2 for start2,end2\n",
    "\n",
    "# # now let's look up these called/annotated dots in our pre-calculated la_exp dataframe:\n",
    "# rao_dots_idxs = list(zip(bin1_ids,bin2_ids))\n",
    "# la_exp_indexed = la_exp.set_index(['bin1_id','bin2_id'])\n",
    "\n",
    "# # these are the rao-dots that we have caculated locally adjusted expected for:\n",
    "# intersect_raodots = la_exp_indexed[la_exp_indexed.index.isin(rao_dots_idxs)]\n",
    "# # we don't have for every rao-dot since we don't get close enough to diagonal and\n",
    "# # potentially treat NaNs differently."
   ]
  },
  {
   "cell_type": "markdown",
   "metadata": {},
   "source": [
    "# starting from here it requires more cleaning/trimming down ...\n",
    "\n",
    "### Extracting statistically significant interactions\n",
    "\n",
    "So how could one extract significantly enriched interactions instead of calling every marginally brighter pixel \"enriched\" ?\n",
    "\n",
    "We have our *null* hypothesis: intensity of a HiC pixel is Poisson-distributed with a certain expected. In this case that would be *locally-adjusted expected*.\n",
    "\n",
    "Thus for the dot-calling, we could estimate a *p*-value for every pixel based on its observed intensity and its expected intensity:\n",
    "```python\n",
    "from scipy.stats import poisson\n",
    "\n",
    "for k in ktypes:\n",
    "    la_exp[\"la_exp.\"+k+\".pval\"] = 1.0 - \\\n",
    "            poisson.cdf(la_exp[\"count\"],\n",
    "                        la_exp[\"la_exp.\"+k+\".value\"])\n",
    "```\n",
    "\n",
    "However going that route would be technically challenging for the further genome-wide calculations, so we can introduce the *lambda*-chunking procedure introduced in Rao et al 2014 to tackle technicall challenges and some issues associated with the wide dynamic range of the expected for the dot-calling (due to distance decay)."
   ]
  },
  {
   "cell_type": "markdown",
   "metadata": {},
   "source": [
    "### now let's select pixels that are \"significantly\" brighter than their surroundings ...\n"
   ]
  },
  {
   "cell_type": "markdown",
   "metadata": {},
   "source": [
    "### Rao et al 2014 statistics is more nuanced\n",
    "\n",
    " 1. Simple p-value thresholding should be replaced to more \"productive\" FDR, which is more tractable and better suited for the job.\n",
    " 2. Another argument is that it is \"unfair\" to treat all of the pixels with the same statitical testing (multiple hypothesis) - the range of \"expecteds\" is \"too wide\"\n",
    " 3. 2nd point is addressed by spliting the pixels in the groups by their localy adjusted expected - the so-called $\\lambda$-chunking\n",
    " 4. Another nuance of $\\lambda$-chunking is that Rao et al are using the upper boundary of each $\\lambda$-chunk as an expected for every pixel in the chunk (clearly for technical reasons) - we could see how that affects the significance by itself."
   ]
  },
  {
   "cell_type": "code",
   "execution_count": 61,
   "metadata": {},
   "outputs": [
    {
     "data": {
      "text/plain": [
       "(-100, 8500)"
      ]
     },
     "execution_count": 61,
     "metadata": {},
     "output_type": "execute_result"
    },
    {
     "data": {
      "image/png": "[encoded data removed]",
      "text/plain": [
       "<Figure size 432x72 with 1 Axes>"
      ]
     },
     "metadata": {
      "needs_background": "light"
     },
     "output_type": "display_data"
    }
   ],
   "source": [
    "# The essence of lambda-chunking - let's split the surveyed pixels into \"chunks\" based on\n",
    "# their la-expected value and do multiple hypothesis testing separately for these chunks.\n",
    "nlchunks = dotfinder.HiCCUPS_W1_MAX_INDX\n",
    "base = 2 ** (1/3)\n",
    "ledges = np.concatenate((\n",
    "    [-np.inf],\n",
    "    np.logspace(0, nlchunks - 1, num=nlchunks, base=base, dtype=np.float),\n",
    "    [np.inf]))\n",
    "\n",
    "#################################################\n",
    "plt.plot(ledges,np.zeros_like(ledges),'r|')\n",
    "plt.title(\"the $\\lambda$-chunks\")\n",
    "plt.xlabel(\"# of interactions\")\n",
    "fig = plt.gcf()\n",
    "fig.set_size_inches(6,1)\n",
    "ax = plt.gca()\n",
    "ax.set_yticks([])\n",
    "ax.set_xlim(-100,8500)\n",
    "\n",
    "# consider embedding this picture to the markdown section ..."
   ]
  },
  {
   "cell_type": "markdown",
   "metadata": {},
   "source": [
    "### Assigning pixels to $\\lambda$-chunks:\n",
    "\n",
    " - After defining the bins for the expected (boundaries of $\\lambda$-chunks) let's actually chunk the data\n",
    " - this step involves *de novo* calculation of locally adjusted expected\n",
    " - l.a. expected is used to build histograms of observed data"
   ]
  },
  {
   "cell_type": "code",
   "execution_count": 62,
   "metadata": {},
   "outputs": [
    {
     "name": "stdout",
     "output_type": "stream",
     "text": [
      "Preparing to convolve 49 tiles:\n",
      "creating a Pool of 8 workers to tackle 49 tiles\n"
     ]
    }
   ],
   "source": [
    "gw_hist = dotfinder.scoring_and_histogramming_step(clr,\n",
    "                                        expected,\n",
    "                                        expected_name,\n",
    "                                        balancing_weight_name,\n",
    "                                        tiles,\n",
    "                                        kernels,\n",
    "                                        ledges,\n",
    "                                        max_nans_tolerated,\n",
    "                                        loci_separation_bins,\n",
    "                                        nproc,\n",
    "                                        verbose)\n"
   ]
  },
  {
   "cell_type": "markdown",
   "metadata": {},
   "source": [
    "### determine thresholds using the fdr thing ...\n",
    "\n",
    "[we should understand a little better - what is going on here with the multiple hypothesis testing, see https://github.com/mirnylab/cooltools/issues/82]\n",
    "\n",
    "long story short:\n",
    " - for each $\\lambda$-chunk we are calculating q-values in an efficient way, skipping calculations of p-values for each surveyed pixel\n",
    " - in part this is achieved by using upper boundary of each $\\lambda$-chunk as an expected for every pixel in this chunk\n",
    " - and in part the efficiency comes from collapsing identical observed values, i.e. histogramming\n",
    " - to be checked: q-values > 1.0 seem to be weird - we need to check if that is ok\n",
    " - also to be comared with the stats-packages implementations - just in case, e.g. `from statsmodels.stats import multitest; multitest.multipletests(pvals,alpha=0.99,method=\"fdr_bh\")`\n"
   ]
  },
  {
   "cell_type": "code",
   "execution_count": 73,
   "metadata": {},
   "outputs": [],
   "source": [
    "# this determines observed thresholds for each chunk and corresponding q-values for every observed value\n",
    "threshold_df, qvalues = dotfinder.determine_thresholds(\n",
    "    kernels, ledges, gw_hist, 0.2)"
   ]
  },
  {
   "cell_type": "markdown",
   "metadata": {},
   "source": [
    "### oveview of the 2D histogram \n",
    "\n",
    "x-bins corresponding to the $\\lambda$-chunks and y-bins correspodning to the observed counts ..."
   ]
  },
  {
   "cell_type": "code",
   "execution_count": 74,
   "metadata": {},
   "outputs": [
    {
     "name": "stderr",
     "output_type": "stream",
     "text": [
      "/home/venevs/miniconda3/envs/dots-latest/lib/python3.6/site-packages/ipykernel_launcher.py:3: RuntimeWarning: divide by zero encountered in log\n",
      "  This is separate from the ipykernel package so we can avoid doing imports until\n"
     ]
    },
    {
     "data": {
      "text/plain": [
       "Text(0.5, 0, 'lambda-chunks')"
      ]
     },
     "execution_count": 74,
     "metadata": {},
     "output_type": "execute_result"
    },
    {
     "data": {
      "image/png": "[encoded data removed]",
      "text/plain": [
       "<Figure size 720x2160 with 1 Axes>"
      ]
     },
     "metadata": {
      "needs_background": "light"
     },
     "output_type": "display_data"
    }
   ],
   "source": [
    "fig = plt.gcf()\n",
    "fig.set_size_inches(10,30)\n",
    "plt.imshow(np.log(gw_hist[\"donut\"]),aspect=0.05)\n",
    "ax = plt.gca()\n",
    "ax.plot(np.arange(threshold_df[\"donut\"].values.size)-0.05,threshold_df[\"donut\"].values,color='r',marker=\"_\",linestyle=\":\")\n",
    "\n",
    "ax.set_ylabel(\"observed counts\")\n",
    "ax.set_xlabel(\"lambda-chunks\")"
   ]
  },
  {
   "cell_type": "markdown",
   "metadata": {},
   "source": [
    "### a histogram for a particular $\\lambda$-chunk"
   ]
  },
  {
   "cell_type": "code",
   "execution_count": 75,
   "metadata": {},
   "outputs": [
    {
     "name": "stdout",
     "output_type": "stream",
     "text": [
      "244304\n"
     ]
    },
    {
     "data": {
      "text/plain": [
       "<BarContainer object of 1 artists>"
      ]
     },
     "execution_count": 75,
     "metadata": {},
     "output_type": "execute_result"
    },
    {
     "data": {
      "image/png": "[encoded data removed]",
      "text/plain": [
       "<Figure size 432x288 with 1 Axes>"
      ]
     },
     "metadata": {
      "needs_background": "light"
     },
     "output_type": "display_data"
    }
   ],
   "source": [
    "binid = 7\n",
    "print(gw_hist[\"donut\"].iloc[:,binid].values.sum())\n",
    "hs = np.clip(gw_hist[\"donut\"].iloc[:,binid].values,a_min=None,a_max=10000)\n",
    "# hs = np.log(gw_hist[\"donut\"].iloc[:,binid].values)\n",
    "plt.bar(gw_hist[\"donut\"].iloc[:,binid].index,hs)\n",
    "plt.bar(threshold_df[\"donut\"].iloc[binid],hs.max(),width=10,color='red')\n",
    "# plt.gca().set_ylim(0,1)\n",
    "# plt.gca().set_xlim(0,60)\n",
    "# gw_hist[\"donut\"].iloc[:,20]"
   ]
  },
  {
   "cell_type": "markdown",
   "metadata": {},
   "source": [
    "### now extract \"significant\" pixels using the defined thresholds_df and the same parquet file with the score dump as for the histogramming step\n",
    "\n"
   ]
  },
  {
   "cell_type": "code",
   "execution_count": 76,
   "metadata": {},
   "outputs": [
    {
     "name": "stdout",
     "output_type": "stream",
     "text": [
      "Preparing to convolve 49 tiles:\n",
      "creating a Pool of 8 workers to tackle 49 tiles\n",
      "Number of filtered pixels 352\n"
     ]
    }
   ],
   "source": [
    "filtered_pixels = dotfinder.scoring_and_extraction_step(clr,\n",
    "                                        expected,\n",
    "                                        expected_name,\n",
    "                                        balancing_weight_name,\n",
    "                                        tiles,\n",
    "                                        kernels,\n",
    "                                        ledges,\n",
    "                                        threshold_df,\n",
    "                                        max_nans_tolerated,\n",
    "                                        balance_factor,                \n",
    "                                        loci_separation_bins,\n",
    "                                        None, \n",
    "                                        nproc,\n",
    "                                        verbose)\n",
    "\n",
    "print(\"Number of filtered pixels {}\".format(len(filtered_pixels)))"
   ]
  },
  {
   "cell_type": "code",
   "execution_count": 77,
   "metadata": {},
   "outputs": [
    {
     "data": {
      "text/plain": [
       "<matplotlib.colorbar.Colorbar at 0x7f2b2005d2e8>"
      ]
     },
     "execution_count": 77,
     "metadata": {},
     "output_type": "execute_result"
    },
    {
     "data": {
      "image/png": "[encoded data removed]",
      "text/plain": [
       "<Figure size 432x288 with 2 Axes>"
      ]
     },
     "metadata": {
      "needs_background": "light"
     },
     "output_type": "display_data"
    }
   ],
   "source": [
    "xlabel = 'la_exp.donut.value'\n",
    "ylabel = 'count'\n",
    "\n",
    "# we might consider \"downsampling\" la_exp dataframe in order to make obs/exp scatter plot less busy:\n",
    "sub_la_exp = la_exp.sample(frac=0.1)\n",
    "\n",
    "sct = plt.scatter(sub_la_exp[xlabel],\n",
    "                  sub_la_exp[ylabel],\n",
    "                  # color dots on the scatter by their genomic separation\n",
    "                  c=sub_la_exp['bin2_id']-sub_la_exp['bin1_id'],\n",
    "                  vmin=0,\n",
    "                  vmax = 100,\n",
    "                  cmap=\"YlOrRd_r\")\n",
    "\n",
    "\n",
    "\n",
    "plt.scatter(filtered_pixels[xlabel],\n",
    "            filtered_pixels[ylabel],\n",
    "            s=80,\n",
    "            facecolors='none',\n",
    "            edgecolors='b')\n",
    "\n",
    "# we can add a visual of the lambda-chunking grid on top of obs/exp scatter ...\n",
    "# plt.vlines(ledges[1:-15],ymin=0.5,ymax=900,color='red')\n",
    "\n",
    "ax = plt.gca()\n",
    "fig = plt.gcf()\n",
    "\n",
    "ax.set_xscale('log')\n",
    "ax.set_yscale('log')\n",
    "\n",
    "ax.set_xlim(0.5,700)\n",
    "ax.set_ylim(0.5,1200)\n",
    "\n",
    "ax.set_ylabel(\"count\")\n",
    "ax.set_xlabel(\"la_exp value\")\n",
    "\n",
    "fig.colorbar(sct)"
   ]
  },
  {
   "cell_type": "code",
   "execution_count": 95,
   "metadata": {},
   "outputs": [
    {
     "data": {
      "text/html": [
       "<div>\n",
       "<style scoped>\n",
       "    .dataframe tbody tr th:only-of-type {\n",
       "        vertical-align: middle;\n",
       "    }\n",
       "\n",
       "    .dataframe tbody tr th {\n",
       "        vertical-align: top;\n",
       "    }\n",
       "\n",
       "    .dataframe thead th {\n",
       "        text-align: right;\n",
       "    }\n",
       "</style>\n",
       "<table border=\"1\" class=\"dataframe\">\n",
       "  <thead>\n",
       "    <tr style=\"text-align: right;\">\n",
       "      <th></th>\n",
       "      <th>bin1_id</th>\n",
       "      <th>bin2_id</th>\n",
       "      <th>count</th>\n",
       "      <th>la_exp.donut.value</th>\n",
       "      <th>la_exp.vertical.value</th>\n",
       "      <th>la_exp.horizontal.value</th>\n",
       "      <th>la_exp.lowleft.value</th>\n",
       "    </tr>\n",
       "  </thead>\n",
       "  <tbody>\n",
       "    <tr>\n",
       "      <th>0</th>\n",
       "      <td>90</td>\n",
       "      <td>100</td>\n",
       "      <td>93</td>\n",
       "      <td>52.491864</td>\n",
       "      <td>58.691380</td>\n",
       "      <td>54.878468</td>\n",
       "      <td>48.550475</td>\n",
       "    </tr>\n",
       "    <tr>\n",
       "      <th>1</th>\n",
       "      <td>91</td>\n",
       "      <td>122</td>\n",
       "      <td>54</td>\n",
       "      <td>26.186525</td>\n",
       "      <td>29.024466</td>\n",
       "      <td>29.730160</td>\n",
       "      <td>27.449489</td>\n",
       "    </tr>\n",
       "    <tr>\n",
       "      <th>2</th>\n",
       "      <td>107</td>\n",
       "      <td>117</td>\n",
       "      <td>138</td>\n",
       "      <td>88.543119</td>\n",
       "      <td>86.414951</td>\n",
       "      <td>101.478656</td>\n",
       "      <td>80.684949</td>\n",
       "    </tr>\n",
       "    <tr>\n",
       "      <th>3</th>\n",
       "      <td>146</td>\n",
       "      <td>156</td>\n",
       "      <td>43</td>\n",
       "      <td>19.742958</td>\n",
       "      <td>21.378086</td>\n",
       "      <td>23.425165</td>\n",
       "      <td>19.170444</td>\n",
       "    </tr>\n",
       "    <tr>\n",
       "      <th>4</th>\n",
       "      <td>202</td>\n",
       "      <td>246</td>\n",
       "      <td>35</td>\n",
       "      <td>13.968474</td>\n",
       "      <td>15.934367</td>\n",
       "      <td>13.988825</td>\n",
       "      <td>15.655048</td>\n",
       "    </tr>\n",
       "    <tr>\n",
       "      <th>5</th>\n",
       "      <td>212</td>\n",
       "      <td>231</td>\n",
       "      <td>111</td>\n",
       "      <td>55.712979</td>\n",
       "      <td>69.310956</td>\n",
       "      <td>69.800746</td>\n",
       "      <td>58.221836</td>\n",
       "    </tr>\n",
       "    <tr>\n",
       "      <th>6</th>\n",
       "      <td>213</td>\n",
       "      <td>230</td>\n",
       "      <td>122</td>\n",
       "      <td>57.175790</td>\n",
       "      <td>60.343924</td>\n",
       "      <td>75.350804</td>\n",
       "      <td>51.058829</td>\n",
       "    </tr>\n",
       "    <tr>\n",
       "      <th>7</th>\n",
       "      <td>213</td>\n",
       "      <td>231</td>\n",
       "      <td>117</td>\n",
       "      <td>50.091091</td>\n",
       "      <td>61.130211</td>\n",
       "      <td>63.323237</td>\n",
       "      <td>46.507324</td>\n",
       "    </tr>\n",
       "    <tr>\n",
       "      <th>8</th>\n",
       "      <td>213</td>\n",
       "      <td>232</td>\n",
       "      <td>113</td>\n",
       "      <td>53.335205</td>\n",
       "      <td>66.496129</td>\n",
       "      <td>65.365351</td>\n",
       "      <td>54.397781</td>\n",
       "    </tr>\n",
       "    <tr>\n",
       "      <th>9</th>\n",
       "      <td>213</td>\n",
       "      <td>233</td>\n",
       "      <td>73</td>\n",
       "      <td>33.829315</td>\n",
       "      <td>35.163823</td>\n",
       "      <td>43.774275</td>\n",
       "      <td>36.300000</td>\n",
       "    </tr>\n",
       "    <tr>\n",
       "      <th>10</th>\n",
       "      <td>213</td>\n",
       "      <td>246</td>\n",
       "      <td>50</td>\n",
       "      <td>28.013950</td>\n",
       "      <td>30.965506</td>\n",
       "      <td>31.691043</td>\n",
       "      <td>23.845350</td>\n",
       "    </tr>\n",
       "    <tr>\n",
       "      <th>11</th>\n",
       "      <td>214</td>\n",
       "      <td>334</td>\n",
       "      <td>38</td>\n",
       "      <td>15.480120</td>\n",
       "      <td>18.340936</td>\n",
       "      <td>16.401403</td>\n",
       "      <td>14.495865</td>\n",
       "    </tr>\n",
       "    <tr>\n",
       "      <th>12</th>\n",
       "      <td>234</td>\n",
       "      <td>246</td>\n",
       "      <td>87</td>\n",
       "      <td>52.341099</td>\n",
       "      <td>51.812793</td>\n",
       "      <td>56.074303</td>\n",
       "      <td>57.562352</td>\n",
       "    </tr>\n",
       "    <tr>\n",
       "      <th>13</th>\n",
       "      <td>234</td>\n",
       "      <td>249</td>\n",
       "      <td>87</td>\n",
       "      <td>53.594832</td>\n",
       "      <td>51.722377</td>\n",
       "      <td>62.885542</td>\n",
       "      <td>56.738222</td>\n",
       "    </tr>\n",
       "    <tr>\n",
       "      <th>14</th>\n",
       "      <td>235</td>\n",
       "      <td>334</td>\n",
       "      <td>72</td>\n",
       "      <td>34.175952</td>\n",
       "      <td>43.658890</td>\n",
       "      <td>40.003243</td>\n",
       "      <td>41.226877</td>\n",
       "    </tr>\n",
       "    <tr>\n",
       "      <th>15</th>\n",
       "      <td>338</td>\n",
       "      <td>353</td>\n",
       "      <td>91</td>\n",
       "      <td>50.965491</td>\n",
       "      <td>59.447927</td>\n",
       "      <td>52.105018</td>\n",
       "      <td>60.357178</td>\n",
       "    </tr>\n",
       "    <tr>\n",
       "      <th>16</th>\n",
       "      <td>338</td>\n",
       "      <td>364</td>\n",
       "      <td>62</td>\n",
       "      <td>31.280824</td>\n",
       "      <td>37.627672</td>\n",
       "      <td>32.735810</td>\n",
       "      <td>32.454630</td>\n",
       "    </tr>\n",
       "    <tr>\n",
       "      <th>17</th>\n",
       "      <td>339</td>\n",
       "      <td>351</td>\n",
       "      <td>99</td>\n",
       "      <td>59.088736</td>\n",
       "      <td>61.547198</td>\n",
       "      <td>61.924363</td>\n",
       "      <td>57.396991</td>\n",
       "    </tr>\n",
       "    <tr>\n",
       "      <th>18</th>\n",
       "      <td>339</td>\n",
       "      <td>353</td>\n",
       "      <td>89</td>\n",
       "      <td>51.590096</td>\n",
       "      <td>58.995439</td>\n",
       "      <td>54.893278</td>\n",
       "      <td>57.668447</td>\n",
       "    </tr>\n",
       "    <tr>\n",
       "      <th>19</th>\n",
       "      <td>340</td>\n",
       "      <td>353</td>\n",
       "      <td>74</td>\n",
       "      <td>35.852685</td>\n",
       "      <td>41.568494</td>\n",
       "      <td>40.137330</td>\n",
       "      <td>37.478438</td>\n",
       "    </tr>\n",
       "    <tr>\n",
       "      <th>20</th>\n",
       "      <td>341</td>\n",
       "      <td>353</td>\n",
       "      <td>97</td>\n",
       "      <td>51.460067</td>\n",
       "      <td>60.788200</td>\n",
       "      <td>59.861486</td>\n",
       "      <td>50.892994</td>\n",
       "    </tr>\n",
       "    <tr>\n",
       "      <th>21</th>\n",
       "      <td>348</td>\n",
       "      <td>362</td>\n",
       "      <td>72</td>\n",
       "      <td>44.725049</td>\n",
       "      <td>50.531973</td>\n",
       "      <td>46.030020</td>\n",
       "      <td>34.850091</td>\n",
       "    </tr>\n",
       "    <tr>\n",
       "      <th>22</th>\n",
       "      <td>616</td>\n",
       "      <td>630</td>\n",
       "      <td>63</td>\n",
       "      <td>30.108190</td>\n",
       "      <td>36.989526</td>\n",
       "      <td>33.921335</td>\n",
       "      <td>32.965140</td>\n",
       "    </tr>\n",
       "    <tr>\n",
       "      <th>23</th>\n",
       "      <td>617</td>\n",
       "      <td>630</td>\n",
       "      <td>71</td>\n",
       "      <td>41.684918</td>\n",
       "      <td>49.803331</td>\n",
       "      <td>48.105593</td>\n",
       "      <td>44.396897</td>\n",
       "    </tr>\n",
       "    <tr>\n",
       "      <th>24</th>\n",
       "      <td>618</td>\n",
       "      <td>630</td>\n",
       "      <td>88</td>\n",
       "      <td>44.966907</td>\n",
       "      <td>56.108170</td>\n",
       "      <td>47.058597</td>\n",
       "      <td>45.942263</td>\n",
       "    </tr>\n",
       "    <tr>\n",
       "      <th>25</th>\n",
       "      <td>630</td>\n",
       "      <td>640</td>\n",
       "      <td>87</td>\n",
       "      <td>51.248202</td>\n",
       "      <td>57.289688</td>\n",
       "      <td>59.173917</td>\n",
       "      <td>55.829380</td>\n",
       "    </tr>\n",
       "    <tr>\n",
       "      <th>26</th>\n",
       "      <td>630</td>\n",
       "      <td>648</td>\n",
       "      <td>117</td>\n",
       "      <td>52.003360</td>\n",
       "      <td>54.474795</td>\n",
       "      <td>68.027045</td>\n",
       "      <td>46.697253</td>\n",
       "    </tr>\n",
       "    <tr>\n",
       "      <th>27</th>\n",
       "      <td>630</td>\n",
       "      <td>652</td>\n",
       "      <td>94</td>\n",
       "      <td>46.194316</td>\n",
       "      <td>49.507127</td>\n",
       "      <td>60.461818</td>\n",
       "      <td>53.189829</td>\n",
       "    </tr>\n",
       "    <tr>\n",
       "      <th>28</th>\n",
       "      <td>630</td>\n",
       "      <td>653</td>\n",
       "      <td>105</td>\n",
       "      <td>51.554700</td>\n",
       "      <td>50.144861</td>\n",
       "      <td>69.511863</td>\n",
       "      <td>63.127377</td>\n",
       "    </tr>\n",
       "    <tr>\n",
       "      <th>29</th>\n",
       "      <td>704</td>\n",
       "      <td>714</td>\n",
       "      <td>54</td>\n",
       "      <td>27.051747</td>\n",
       "      <td>30.359890</td>\n",
       "      <td>27.458438</td>\n",
       "      <td>25.831763</td>\n",
       "    </tr>\n",
       "    <tr>\n",
       "      <th>...</th>\n",
       "      <td>...</td>\n",
       "      <td>...</td>\n",
       "      <td>...</td>\n",
       "      <td>...</td>\n",
       "      <td>...</td>\n",
       "      <td>...</td>\n",
       "      <td>...</td>\n",
       "    </tr>\n",
       "    <tr>\n",
       "      <th>322</th>\n",
       "      <td>20385</td>\n",
       "      <td>20409</td>\n",
       "      <td>60</td>\n",
       "      <td>30.437409</td>\n",
       "      <td>37.327693</td>\n",
       "      <td>35.283051</td>\n",
       "      <td>27.741944</td>\n",
       "    </tr>\n",
       "    <tr>\n",
       "      <th>323</th>\n",
       "      <td>20410</td>\n",
       "      <td>20433</td>\n",
       "      <td>77</td>\n",
       "      <td>36.206129</td>\n",
       "      <td>44.498554</td>\n",
       "      <td>36.215444</td>\n",
       "      <td>46.423334</td>\n",
       "    </tr>\n",
       "    <tr>\n",
       "      <th>324</th>\n",
       "      <td>20411</td>\n",
       "      <td>20432</td>\n",
       "      <td>85</td>\n",
       "      <td>40.878154</td>\n",
       "      <td>50.268788</td>\n",
       "      <td>47.034771</td>\n",
       "      <td>43.759160</td>\n",
       "    </tr>\n",
       "    <tr>\n",
       "      <th>325</th>\n",
       "      <td>20411</td>\n",
       "      <td>20433</td>\n",
       "      <td>80</td>\n",
       "      <td>39.968226</td>\n",
       "      <td>49.806585</td>\n",
       "      <td>44.541619</td>\n",
       "      <td>49.315888</td>\n",
       "    </tr>\n",
       "    <tr>\n",
       "      <th>326</th>\n",
       "      <td>20412</td>\n",
       "      <td>20433</td>\n",
       "      <td>80</td>\n",
       "      <td>33.043862</td>\n",
       "      <td>41.808286</td>\n",
       "      <td>38.605379</td>\n",
       "      <td>36.660357</td>\n",
       "    </tr>\n",
       "    <tr>\n",
       "      <th>327</th>\n",
       "      <td>20412</td>\n",
       "      <td>20446</td>\n",
       "      <td>38</td>\n",
       "      <td>16.862973</td>\n",
       "      <td>19.415121</td>\n",
       "      <td>19.480194</td>\n",
       "      <td>18.652182</td>\n",
       "    </tr>\n",
       "    <tr>\n",
       "      <th>328</th>\n",
       "      <td>20413</td>\n",
       "      <td>20435</td>\n",
       "      <td>50</td>\n",
       "      <td>25.420717</td>\n",
       "      <td>27.040453</td>\n",
       "      <td>29.756675</td>\n",
       "      <td>30.415640</td>\n",
       "    </tr>\n",
       "    <tr>\n",
       "      <th>329</th>\n",
       "      <td>20414</td>\n",
       "      <td>20430</td>\n",
       "      <td>89</td>\n",
       "      <td>58.851191</td>\n",
       "      <td>55.651477</td>\n",
       "      <td>58.338263</td>\n",
       "      <td>43.397212</td>\n",
       "    </tr>\n",
       "    <tr>\n",
       "      <th>330</th>\n",
       "      <td>20531</td>\n",
       "      <td>20553</td>\n",
       "      <td>43</td>\n",
       "      <td>19.550317</td>\n",
       "      <td>20.062761</td>\n",
       "      <td>24.359454</td>\n",
       "      <td>19.552131</td>\n",
       "    </tr>\n",
       "    <tr>\n",
       "      <th>331</th>\n",
       "      <td>20665</td>\n",
       "      <td>20675</td>\n",
       "      <td>95</td>\n",
       "      <td>46.010204</td>\n",
       "      <td>51.343945</td>\n",
       "      <td>54.858039</td>\n",
       "      <td>46.943625</td>\n",
       "    </tr>\n",
       "    <tr>\n",
       "      <th>332</th>\n",
       "      <td>20690</td>\n",
       "      <td>20707</td>\n",
       "      <td>69</td>\n",
       "      <td>30.689450</td>\n",
       "      <td>38.163062</td>\n",
       "      <td>35.403458</td>\n",
       "      <td>29.186243</td>\n",
       "    </tr>\n",
       "    <tr>\n",
       "      <th>333</th>\n",
       "      <td>20690</td>\n",
       "      <td>20708</td>\n",
       "      <td>91</td>\n",
       "      <td>38.321936</td>\n",
       "      <td>46.546390</td>\n",
       "      <td>44.629585</td>\n",
       "      <td>36.977110</td>\n",
       "    </tr>\n",
       "    <tr>\n",
       "      <th>334</th>\n",
       "      <td>20690</td>\n",
       "      <td>20709</td>\n",
       "      <td>74</td>\n",
       "      <td>38.311555</td>\n",
       "      <td>38.914599</td>\n",
       "      <td>45.202750</td>\n",
       "      <td>38.211481</td>\n",
       "    </tr>\n",
       "    <tr>\n",
       "      <th>335</th>\n",
       "      <td>20696</td>\n",
       "      <td>20707</td>\n",
       "      <td>50</td>\n",
       "      <td>26.127699</td>\n",
       "      <td>31.893008</td>\n",
       "      <td>24.502011</td>\n",
       "      <td>22.969102</td>\n",
       "    </tr>\n",
       "    <tr>\n",
       "      <th>336</th>\n",
       "      <td>20805</td>\n",
       "      <td>20815</td>\n",
       "      <td>44</td>\n",
       "      <td>20.596890</td>\n",
       "      <td>20.373347</td>\n",
       "      <td>22.844800</td>\n",
       "      <td>21.518613</td>\n",
       "    </tr>\n",
       "    <tr>\n",
       "      <th>337</th>\n",
       "      <td>20820</td>\n",
       "      <td>20840</td>\n",
       "      <td>54</td>\n",
       "      <td>24.923807</td>\n",
       "      <td>31.695066</td>\n",
       "      <td>25.924586</td>\n",
       "      <td>24.328314</td>\n",
       "    </tr>\n",
       "    <tr>\n",
       "      <th>338</th>\n",
       "      <td>20820</td>\n",
       "      <td>20841</td>\n",
       "      <td>55</td>\n",
       "      <td>24.220884</td>\n",
       "      <td>31.041238</td>\n",
       "      <td>25.352896</td>\n",
       "      <td>24.732416</td>\n",
       "    </tr>\n",
       "    <tr>\n",
       "      <th>339</th>\n",
       "      <td>21150</td>\n",
       "      <td>21165</td>\n",
       "      <td>49</td>\n",
       "      <td>20.631759</td>\n",
       "      <td>24.689151</td>\n",
       "      <td>24.225337</td>\n",
       "      <td>17.005603</td>\n",
       "    </tr>\n",
       "    <tr>\n",
       "      <th>340</th>\n",
       "      <td>21165</td>\n",
       "      <td>21258</td>\n",
       "      <td>25</td>\n",
       "      <td>6.660236</td>\n",
       "      <td>6.201492</td>\n",
       "      <td>7.101776</td>\n",
       "      <td>8.782974</td>\n",
       "    </tr>\n",
       "    <tr>\n",
       "      <th>341</th>\n",
       "      <td>21168</td>\n",
       "      <td>21182</td>\n",
       "      <td>55</td>\n",
       "      <td>25.241605</td>\n",
       "      <td>29.826171</td>\n",
       "      <td>25.836369</td>\n",
       "      <td>25.758298</td>\n",
       "    </tr>\n",
       "    <tr>\n",
       "      <th>342</th>\n",
       "      <td>21450</td>\n",
       "      <td>21474</td>\n",
       "      <td>39</td>\n",
       "      <td>14.927125</td>\n",
       "      <td>17.001430</td>\n",
       "      <td>16.840494</td>\n",
       "      <td>12.973190</td>\n",
       "    </tr>\n",
       "    <tr>\n",
       "      <th>343</th>\n",
       "      <td>22566</td>\n",
       "      <td>22616</td>\n",
       "      <td>55</td>\n",
       "      <td>19.485271</td>\n",
       "      <td>21.567771</td>\n",
       "      <td>26.092779</td>\n",
       "      <td>24.547747</td>\n",
       "    </tr>\n",
       "    <tr>\n",
       "      <th>344</th>\n",
       "      <td>22682</td>\n",
       "      <td>22701</td>\n",
       "      <td>82</td>\n",
       "      <td>30.778547</td>\n",
       "      <td>36.489006</td>\n",
       "      <td>37.990779</td>\n",
       "      <td>27.281052</td>\n",
       "    </tr>\n",
       "    <tr>\n",
       "      <th>345</th>\n",
       "      <td>22683</td>\n",
       "      <td>22699</td>\n",
       "      <td>55</td>\n",
       "      <td>27.558909</td>\n",
       "      <td>29.181399</td>\n",
       "      <td>31.521866</td>\n",
       "      <td>20.309266</td>\n",
       "    </tr>\n",
       "    <tr>\n",
       "      <th>346</th>\n",
       "      <td>22979</td>\n",
       "      <td>23043</td>\n",
       "      <td>43</td>\n",
       "      <td>19.739839</td>\n",
       "      <td>22.185567</td>\n",
       "      <td>23.439635</td>\n",
       "      <td>19.784846</td>\n",
       "    </tr>\n",
       "    <tr>\n",
       "      <th>347</th>\n",
       "      <td>23093</td>\n",
       "      <td>23132</td>\n",
       "      <td>45</td>\n",
       "      <td>23.171578</td>\n",
       "      <td>23.444366</td>\n",
       "      <td>23.756331</td>\n",
       "      <td>19.814730</td>\n",
       "    </tr>\n",
       "    <tr>\n",
       "      <th>348</th>\n",
       "      <td>23148</td>\n",
       "      <td>23172</td>\n",
       "      <td>48</td>\n",
       "      <td>18.582950</td>\n",
       "      <td>23.682401</td>\n",
       "      <td>20.464307</td>\n",
       "      <td>18.794389</td>\n",
       "    </tr>\n",
       "    <tr>\n",
       "      <th>349</th>\n",
       "      <td>23626</td>\n",
       "      <td>23669</td>\n",
       "      <td>45</td>\n",
       "      <td>16.958532</td>\n",
       "      <td>16.393970</td>\n",
       "      <td>22.894714</td>\n",
       "      <td>23.799703</td>\n",
       "    </tr>\n",
       "    <tr>\n",
       "      <th>350</th>\n",
       "      <td>23629</td>\n",
       "      <td>23665</td>\n",
       "      <td>44</td>\n",
       "      <td>22.294334</td>\n",
       "      <td>23.307485</td>\n",
       "      <td>24.427329</td>\n",
       "      <td>20.802933</td>\n",
       "    </tr>\n",
       "    <tr>\n",
       "      <th>351</th>\n",
       "      <td>24531</td>\n",
       "      <td>24616</td>\n",
       "      <td>39</td>\n",
       "      <td>15.089205</td>\n",
       "      <td>17.070699</td>\n",
       "      <td>17.766592</td>\n",
       "      <td>15.721339</td>\n",
       "    </tr>\n",
       "  </tbody>\n",
       "</table>\n",
       "<p>352 rows × 7 columns</p>\n",
       "</div>"
      ],
      "text/plain": [
       "     bin1_id  bin2_id  count  la_exp.donut.value  la_exp.vertical.value  \\\n",
       "0         90      100     93           52.491864              58.691380   \n",
       "1         91      122     54           26.186525              29.024466   \n",
       "2        107      117    138           88.543119              86.414951   \n",
       "3        146      156     43           19.742958              21.378086   \n",
       "4        202      246     35           13.968474              15.934367   \n",
       "5        212      231    111           55.712979              69.310956   \n",
       "6        213      230    122           57.175790              60.343924   \n",
       "7        213      231    117           50.091091              61.130211   \n",
       "8        213      232    113           53.335205              66.496129   \n",
       "9        213      233     73           33.829315              35.163823   \n",
       "10       213      246     50           28.013950              30.965506   \n",
       "11       214      334     38           15.480120              18.340936   \n",
       "12       234      246     87           52.341099              51.812793   \n",
       "13       234      249     87           53.594832              51.722377   \n",
       "14       235      334     72           34.175952              43.658890   \n",
       "15       338      353     91           50.965491              59.447927   \n",
       "16       338      364     62           31.280824              37.627672   \n",
       "17       339      351     99           59.088736              61.547198   \n",
       "18       339      353     89           51.590096              58.995439   \n",
       "19       340      353     74           35.852685              41.568494   \n",
       "20       341      353     97           51.460067              60.788200   \n",
       "21       348      362     72           44.725049              50.531973   \n",
       "22       616      630     63           30.108190              36.989526   \n",
       "23       617      630     71           41.684918              49.803331   \n",
       "24       618      630     88           44.966907              56.108170   \n",
       "25       630      640     87           51.248202              57.289688   \n",
       "26       630      648    117           52.003360              54.474795   \n",
       "27       630      652     94           46.194316              49.507127   \n",
       "28       630      653    105           51.554700              50.144861   \n",
       "29       704      714     54           27.051747              30.359890   \n",
       "..       ...      ...    ...                 ...                    ...   \n",
       "322    20385    20409     60           30.437409              37.327693   \n",
       "323    20410    20433     77           36.206129              44.498554   \n",
       "324    20411    20432     85           40.878154              50.268788   \n",
       "325    20411    20433     80           39.968226              49.806585   \n",
       "326    20412    20433     80           33.043862              41.808286   \n",
       "327    20412    20446     38           16.862973              19.415121   \n",
       "328    20413    20435     50           25.420717              27.040453   \n",
       "329    20414    20430     89           58.851191              55.651477   \n",
       "330    20531    20553     43           19.550317              20.062761   \n",
       "331    20665    20675     95           46.010204              51.343945   \n",
       "332    20690    20707     69           30.689450              38.163062   \n",
       "333    20690    20708     91           38.321936              46.546390   \n",
       "334    20690    20709     74           38.311555              38.914599   \n",
       "335    20696    20707     50           26.127699              31.893008   \n",
       "336    20805    20815     44           20.596890              20.373347   \n",
       "337    20820    20840     54           24.923807              31.695066   \n",
       "338    20820    20841     55           24.220884              31.041238   \n",
       "339    21150    21165     49           20.631759              24.689151   \n",
       "340    21165    21258     25            6.660236               6.201492   \n",
       "341    21168    21182     55           25.241605              29.826171   \n",
       "342    21450    21474     39           14.927125              17.001430   \n",
       "343    22566    22616     55           19.485271              21.567771   \n",
       "344    22682    22701     82           30.778547              36.489006   \n",
       "345    22683    22699     55           27.558909              29.181399   \n",
       "346    22979    23043     43           19.739839              22.185567   \n",
       "347    23093    23132     45           23.171578              23.444366   \n",
       "348    23148    23172     48           18.582950              23.682401   \n",
       "349    23626    23669     45           16.958532              16.393970   \n",
       "350    23629    23665     44           22.294334              23.307485   \n",
       "351    24531    24616     39           15.089205              17.070699   \n",
       "\n",
       "     la_exp.horizontal.value  la_exp.lowleft.value  \n",
       "0                  54.878468             48.550475  \n",
       "1                  29.730160             27.449489  \n",
       "2                 101.478656             80.684949  \n",
       "3                  23.425165             19.170444  \n",
       "4                  13.988825             15.655048  \n",
       "5                  69.800746             58.221836  \n",
       "6                  75.350804             51.058829  \n",
       "7                  63.323237             46.507324  \n",
       "8                  65.365351             54.397781  \n",
       "9                  43.774275             36.300000  \n",
       "10                 31.691043             23.845350  \n",
       "11                 16.401403             14.495865  \n",
       "12                 56.074303             57.562352  \n",
       "13                 62.885542             56.738222  \n",
       "14                 40.003243             41.226877  \n",
       "15                 52.105018             60.357178  \n",
       "16                 32.735810             32.454630  \n",
       "17                 61.924363             57.396991  \n",
       "18                 54.893278             57.668447  \n",
       "19                 40.137330             37.478438  \n",
       "20                 59.861486             50.892994  \n",
       "21                 46.030020             34.850091  \n",
       "22                 33.921335             32.965140  \n",
       "23                 48.105593             44.396897  \n",
       "24                 47.058597             45.942263  \n",
       "25                 59.173917             55.829380  \n",
       "26                 68.027045             46.697253  \n",
       "27                 60.461818             53.189829  \n",
       "28                 69.511863             63.127377  \n",
       "29                 27.458438             25.831763  \n",
       "..                       ...                   ...  \n",
       "322                35.283051             27.741944  \n",
       "323                36.215444             46.423334  \n",
       "324                47.034771             43.759160  \n",
       "325                44.541619             49.315888  \n",
       "326                38.605379             36.660357  \n",
       "327                19.480194             18.652182  \n",
       "328                29.756675             30.415640  \n",
       "329                58.338263             43.397212  \n",
       "330                24.359454             19.552131  \n",
       "331                54.858039             46.943625  \n",
       "332                35.403458             29.186243  \n",
       "333                44.629585             36.977110  \n",
       "334                45.202750             38.211481  \n",
       "335                24.502011             22.969102  \n",
       "336                22.844800             21.518613  \n",
       "337                25.924586             24.328314  \n",
       "338                25.352896             24.732416  \n",
       "339                24.225337             17.005603  \n",
       "340                 7.101776              8.782974  \n",
       "341                25.836369             25.758298  \n",
       "342                16.840494             12.973190  \n",
       "343                26.092779             24.547747  \n",
       "344                37.990779             27.281052  \n",
       "345                31.521866             20.309266  \n",
       "346                23.439635             19.784846  \n",
       "347                23.756331             19.814730  \n",
       "348                20.464307             18.794389  \n",
       "349                22.894714             23.799703  \n",
       "350                24.427329             20.802933  \n",
       "351                17.766592             15.721339  \n",
       "\n",
       "[352 rows x 7 columns]"
      ]
     },
     "execution_count": 95,
     "metadata": {},
     "output_type": "execute_result"
    }
   ],
   "source": [
    "filtered_pixels"
   ]
  },
  {
   "cell_type": "code",
   "execution_count": 130,
   "metadata": {
    "scrolled": false
   },
   "outputs": [
    {
     "name": "stdout",
     "output_type": "stream",
     "text": [
      "chr1:170,775,209-178,264,146 & chr1:170,185,508-176,356,081\n",
      "    chrom1     start1       end1   weight1 chrom2     start2       end2  \\\n",
      "283   chr1  175120000  175130000  0.009325   chr1  175270000  175280000   \n",
      "284   chr1  175120000  175130000  0.009325   chr1  175280000  175290000   \n",
      "285   chr1  175120000  175130000  0.009325   chr1  175290000  175300000   \n",
      "\n",
      "      weight2  bin1_id  bin2_id  count  la_exp.donut.value  \\\n",
      "283  0.011649    17512    17527     47           16.264104   \n",
      "284  0.010913    17512    17528     47           16.734989   \n",
      "285  0.009572    17512    17529     60           19.191101   \n",
      "\n",
      "     la_exp.vertical.value  la_exp.horizontal.value  la_exp.lowleft.value  \n",
      "283              18.022213                23.449177             13.459071  \n",
      "284              22.861892                23.929154             15.351028  \n",
      "285              24.763944                27.702775             19.371497  \n",
      "283    175120000\n",
      "284    175120000\n",
      "285    175120000\n",
      "Name: start1, dtype: int32\n",
      "283    175270000\n",
      "284    175280000\n",
      "285    175290000\n",
      "Name: start2, dtype: int32\n"
     ]
    },
    {
     "name": "stderr",
     "output_type": "stream",
     "text": [
      "/home/venevs/miniconda3/envs/dots-latest/lib/python3.6/site-packages/ipykernel_launcher.py:36: RuntimeWarning: divide by zero encountered in log2\n"
     ]
    },
    {
     "data": {
      "text/plain": [
       "[<matplotlib.lines.Line2D at 0x7f2b240ac320>]"
      ]
     },
     "execution_count": 130,
     "metadata": {},
     "output_type": "execute_result"
    },
    {
     "data": {
      "image/png": "[encoded data removed]",
      "text/plain": [
       "<Figure size 432x288 with 1 Axes>"
      ]
     },
     "metadata": {
      "needs_background": "light"
     },
     "output_type": "display_data"
    }
   ],
   "source": [
    "from bioframe.core import parse_humanized,parse_region_string,bg2slice_frame\n",
    "\n",
    "\n",
    "parse_humanized('170,775,209')\n",
    "parse_region_string(\"chr1:170,775,209-178,264,146\")\n",
    "\n",
    "\n",
    "ax = \"chr1:170,775,209-178,264,146\"\n",
    "bx = \"chr1:170,185,508-176,356,081\"\n",
    "\n",
    "print(\"{} & {}\".format(ax,bx))\n",
    "\n",
    "# plt.imshow(np.log2(clr.matrix().fetch(ax,bx)),cmap='YlOrRd')\n",
    "\n",
    "ax0=clr.offset(ax)\n",
    "bx0=clr.offset(bx)\n",
    "\n",
    "\n",
    "fff = cooler.annotate(filtered_pixels,clr.bins())\n",
    "\n",
    "ttt = bg2slice_frame(fff, parse_region_string(ax), parse_region_string(bx))\n",
    "print(ttt)\n",
    "\n",
    "fff_ttt = filtered_pixels.iloc[ttt.index]\n",
    "\n",
    "xs =fff_ttt['bin1_id']-ax0\n",
    "ys = fff_ttt['bin2_id']-bx0\n",
    "\n",
    "xs =ttt['start1']\n",
    "ys = ttt['start2']\n",
    "\n",
    "print(xs)\n",
    "print(ys)\n",
    "\n",
    "\n",
    "plt.imshow(np.log2(clr.matrix().fetch(ax,bx)),cmap='YlOrRd',origin=\"upper\",extent=(*parse_region_string(bx)[1:], *parse_region_string(ax)[1:]))\n",
    "ax = plt.gca()\n",
    "ax.plot(xs,ys,'bo')\n",
    "\n",
    "# \"chr1:170,775,209-178,264,146 & chr1:170,185,508-176,356,081\""
   ]
  },
  {
   "cell_type": "markdown",
   "metadata": {},
   "source": [
    "### annotate filtered pixeles and cluster them -> get centroids after that to proceed with post-processing ..."
   ]
  },
  {
   "cell_type": "code",
   "execution_count": 40,
   "metadata": {},
   "outputs": [],
   "source": [
    "filtered_pixels_qvals = dotfinder.annotate_pixels_with_qvalues(filtered_pixels,\n",
    "                                                                qvalues,\n",
    "                                                                kernels)"
   ]
  },
  {
   "cell_type": "code",
   "execution_count": 42,
   "metadata": {},
   "outputs": [
    {
     "name": "stderr",
     "output_type": "stream",
     "text": [
      "/home/venevs/miniconda3/envs/dots-latest/lib/python3.6/site-packages/sklearn/cluster/birch.py:77: FutureWarning: Using a non-tuple sequence for multidimensional indexing is deprecated; use `arr[tuple(seq)]` instead of `arr[seq]`. In the future this will be interpreted as an array index, `arr[np.array(seq)]`, which will result either in an error or a different result.\n",
      "  node1_dist, node2_dist = dist[[farthest_idx]]\n"
     ]
    },
    {
     "name": "stdout",
     "output_type": "stream",
     "text": [
      "Clustering is completed:\n",
      "6296 clusters detected\n",
      "3.42+/-3.53 mean size\n",
      "\n",
      "Clustering is over!\n",
      "Number of clustered pixels, i.e. centroids 6296\n"
     ]
    }
   ],
   "source": [
    "filtered_pixels_annotated = cooler.annotate(filtered_pixels_qvals, clr.bins()[:])\n",
    "centroids = dotfinder.clustering_step(\n",
    "                            filtered_pixels_annotated,\n",
    "                            expected_chroms,\n",
    "                            dots_clustering_radius,\n",
    "                            verbose)\n",
    "print(\"Number of clustered pixels, i.e. centroids {}\".format(len(centroids)))"
   ]
  },
  {
   "cell_type": "code",
   "execution_count": 45,
   "metadata": {},
   "outputs": [],
   "source": [
    "final_out = dotfinder.thresholding_step(centroids)"
   ]
  },
  {
   "cell_type": "code",
   "execution_count": 46,
   "metadata": {},
   "outputs": [
    {
     "data": {
      "text/plain": [
       "2327"
      ]
     },
     "execution_count": 46,
     "metadata": {},
     "output_type": "execute_result"
    }
   ],
   "source": [
    "len(final_out)"
   ]
  },
  {
   "cell_type": "markdown",
   "metadata": {},
   "source": [
    "## stuff that require clean up, but might be usefull in general "
   ]
  },
  {
   "cell_type": "code",
   "execution_count": 21,
   "metadata": {},
   "outputs": [
    {
     "name": "stderr",
     "output_type": "stream",
     "text": [
      "/home/venevs/miniconda3/envs/dots-stable/lib/python3.6/site-packages/ipykernel_launcher.py:11: RuntimeWarning: divide by zero encountered in log\n",
      "  # This is added back by InteractiveShellApp.init_path()\n"
     ]
    },
    {
     "data": {
      "text/plain": [
       "<matplotlib.image.AxesImage at 0x7f3b8ccf1ac8>"
      ]
     },
     "execution_count": 21,
     "metadata": {},
     "output_type": "execute_result"
    },
    {
     "data": {
      "image/png": "[encoded data removed]",
      "text/plain": [
       "<Figure size 432x288 with 1 Axes>"
      ]
     },
     "metadata": {
      "needs_background": "light"
     },
     "output_type": "display_data"
    }
   ],
   "source": [
    "# plt.imshow(np.log(clr.matrix()[18030:18100,18030:18100]),cmap='YlOrRd')\n",
    "# plt.scatter(53,18,s=80, facecolors='none', edgecolors='b')\n",
    "\n",
    "bin1,bin2 = 18030+18,18030+53\n",
    "\n",
    "bin1_n,bin2_n = 18030+23,18030+49\n",
    "\n",
    "\n",
    "bin1,bin2 = 24322, 24334\n",
    "\n",
    "plt.imshow(np.log(clr.matrix(balance=True)[bin1-20:bin1+20,bin2-20:bin2+20]),cmap='YlOrRd')\n",
    "\n",
    "# something to have in mind - is the difference between JUicer balancing and cooler balacning ...\n",
    "# MAD max filtering in particular\n",
    "# in Juicer some of thesparse/low coverage regions are kept - what re the effects on the distriubtions, etc\n",
    "# to be seen\n",
    "# here is the region for reference: chr1:242,019,651-244,387,558 & chr1:242,713,339-243,695,154 [offset 0,0:0,0]\n",
    "\n",
    "dddd = cccc[(cccc['bin1_id']==bin1)&(cccc['bin2_id']==bin2)]\n",
    "eeee = cccc[(cccc['bin1_id']==bin1_n)&(cccc['bin2_id']==bin2_n)]\n",
    "\n",
    "(cccc['bin2_id']-cccc['bin1_id']).min()"
   ]
  },
  {
   "cell_type": "code",
   "execution_count": 73,
   "metadata": {},
   "outputs": [
    {
     "data": {
      "text/plain": [
       "Text(0, 0.5, 'la_exp value')"
      ]
     },
     "execution_count": 73,
     "metadata": {},
     "output_type": "execute_result"
    },
    {
     "data": {
      "image/png": "[encoded data removed]",
      "text/plain": [
       "<Figure size 432x288 with 1 Axes>"
      ]
     },
     "metadata": {
      "needs_background": "light"
     },
     "output_type": "display_data"
    }
   ],
   "source": [
    "# also supplementary stuff to note\n",
    "# about the previous point - how do we ended up having super small la_exp at small genomic separatrions ...\n",
    "xlabel = 'la_exp.donut.value'\n",
    "ylabel = 'count'\n",
    "\n",
    "plt.scatter(la_exp['bin2_id']-la_exp['bin1_id'],(la_exp[xlabel]))\n",
    "# plt.scatter(dddd[xlabel],dddd[ylabel], s=80, facecolors='none', edgecolors='r')\n",
    "# plt.scatter(eeee[xlabel],eeee[ylabel], s=80, facecolors='none', edgecolors='y')\n",
    "\n",
    "ax = plt.gca()\n",
    "\n",
    "ax.set_xlabel(\"genomic separation\")\n",
    "ax.set_ylabel(\"la_exp value\")"
   ]
  },
  {
   "cell_type": "code",
   "execution_count": null,
   "metadata": {},
   "outputs": [],
   "source": []
  }
 ],
 "metadata": {
  "kernelspec": {
   "display_name": "Python 3",
   "language": "python",
   "name": "python3"
  },
  "language_info": {
   "codemirror_mode": {
    "name": "ipython",
    "version": 3
   },
   "file_extension": ".py",
   "mimetype": "text/x-python",
   "name": "python",
   "nbconvert_exporter": "python",
   "pygments_lexer": "ipython3",
   "version": "3.6.7"
  }
 },
 "nbformat": 4,
 "nbformat_minor": 2
}
