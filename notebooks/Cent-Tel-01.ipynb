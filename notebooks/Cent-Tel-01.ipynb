{
 "cells": [
  {
   "cell_type": "code",
   "execution_count": 1,
   "metadata": {},
   "outputs": [],
   "source": [
    "#This script is used to generate , Eigen Vector like Vector (CT) for Centromere-Telomere of chr.\n",
    "# Values from 0-1 are assigned for every arm of every chr, with 0 denoting telomeric region \n",
    "#and 1 being centromeric region\n",
    "import pandas as pd\n",
    "import numpy as np"
   ]
  },
  {
   "cell_type": "code",
   "execution_count": 2,
   "metadata": {},
   "outputs": [],
   "source": [
    "names= [\n",
    "    'hTERT-TP2-R1',\n",
    "    'hTERT-TP4-R1-1',\n",
    "    'hTERT-TP4-R1-2',\n",
    "    'hTERT-TP5-R1',\n",
    "    'hTERT-TP6-R1',\n",
    "    'PDL25-TP2-R1',\n",
    "    'PDL33-TP4-R1',\n",
    "    'PDL37-TP5-R1',\n",
    "    'PDL46-TP6-R1'\n",
    "]"
   ]
  },
  {
   "cell_type": "code",
   "execution_count": 3,
   "metadata": {},
   "outputs": [],
   "source": [
    "def create_Centromere_Telomere_vector(fl):\n",
    "    #read EV file\n",
    "    f1 = pd.read_csv('MC-HiC-DpnII-WI38-'+fl+'.cis.vecs.tsv', sep='\\t', header=0)\n",
    "    #add column CT to maindf\n",
    "    f1 = f1.reindex(columns = ['chrom','start','end','weight','CT']) \n",
    "    #file having centromeric regions of hg38\n",
    "    file_c = pd.read_csv('Centromeres.tsv', sep='\\t', header=0)\n",
    "    for index,row in file_c.iterrows():\n",
    "        #extract rows for single chr arm 1\n",
    "        f2=f1[(f1['chrom']==row['chrom']) & (f1['end']<row['chromStart'])]\n",
    "        # get values between 0-1 for all bins \n",
    "        x=np.arange(0,1,1/len(f2))\n",
    "        #get index value from main df to fill CT column\n",
    "        s=f2.index[0]\n",
    "        #set CT column based in weight entriers(NaNs)\n",
    "        for i in range(len(f2)):\n",
    "            w1=f1.iloc[s+i,f1.columns.get_loc('weight')]\n",
    "            if (not np.isnan(w1)):\n",
    "                f1.iloc[s+i,f1.columns.get_loc('CT')]=x[i]\n",
    "            else:\n",
    "                f1.iloc[s+i,f1.columns.get_loc('CT')]=np.nan\n",
    "        \n",
    "        #extract rows for single chr arm 2\n",
    "        f3=f1[(f1['chrom']==row['chrom']) & (f1['start']>row['chromEnd'])]\n",
    "        y=np.flip(np.arange(0,1,1/len(f3)))\n",
    "        s=f3.index[0]\n",
    "        for i in range(len(f3)):\n",
    "            w2=f1.iloc[s+i,f1.columns.get_loc('weight')]\n",
    "            if (not np.isnan(w2)):\n",
    "                f1.iloc[s+i,f1.columns.get_loc('CT')]=y[i]\n",
    "            else:\n",
    "                f1.iloc[s+i,f1.columns.get_loc('CT')]=np.nan\n",
    "    print(fl)\n",
    "    f1.to_csv(\"Test/\"+fl+\"_Cent.vecs.tsv\",sep='\\t')"
   ]
  },
  {
   "cell_type": "code",
   "execution_count": 4,
   "metadata": {},
   "outputs": [
    {
     "name": "stdout",
     "output_type": "stream",
     "text": [
      "hTERT-TP2-R1\n",
      "hTERT-TP4-R1-1\n",
      "hTERT-TP4-R1-2\n",
      "hTERT-TP5-R1\n",
      "hTERT-TP6-R1\n",
      "PDL25-TP2-R1\n",
      "PDL33-TP4-R1\n",
      "PDL37-TP5-R1\n",
      "PDL46-TP6-R1\n"
     ]
    }
   ],
   "source": [
    "for f in range(9):\n",
    "    create_Centromere_Telomere_vector(names[f])"
   ]
  }
 ],
 "metadata": {
  "kernelspec": {
   "display_name": "Python 3",
   "language": "python",
   "name": "python3"
  },
  "language_info": {
   "codemirror_mode": {
    "name": "ipython",
    "version": 3
   },
   "file_extension": ".py",
   "mimetype": "text/x-python",
   "name": "python",
   "nbconvert_exporter": "python",
   "pygments_lexer": "ipython3",
   "version": "3.8.2"
  }
 },
 "nbformat": 4,
 "nbformat_minor": 2
}
