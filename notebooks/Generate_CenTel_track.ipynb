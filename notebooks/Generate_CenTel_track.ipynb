{
 "cells": [
  {
   "cell_type": "code",
   "execution_count": null,
   "metadata": {},
   "outputs": [],
   "source": [
    "# This script is used to generate , Vector track (CT) for Centromere-Telomere of chr.\n",
    "# Values from 0-1 are assigned for every arm of every chr, with 0 denoting telomeric region \n",
    "#and 1 being centromeric region\n",
    "\n",
    "#values from 0-1 are assigned to arm p and 1-2 to arm q, with 0 and 2 being telomeric regions \n",
    "#and 1 being centromeric region\n",
    "import pandas as pd\n",
    "import numpy as np"
   ]
  },
  {
   "cell_type": "code",
   "execution_count": null,
   "metadata": {},
   "outputs": [],
   "source": [
    "# names= [\n",
    "    'hTERT-TP2-R1',\n",
    "    'hTERT-TP4-R1-1',\n",
    "    'hTERT-TP4-R1-2',\n",
    "    'hTERT-TP5-R1',\n",
    "    'hTERT-TP6-R1',\n",
    "    'PDL25-TP2-R1',\n",
    "    'PDL33-TP4-R1',\n",
    "    'PDL37-TP5-R1',\n",
    "    'PDL46-TP6-R1'\n",
    "]"
   ]
  },
  {
   "cell_type": "code",
   "execution_count": 4,
   "metadata": {},
   "outputs": [],
   "source": [
    "#This function is used to assigns values 0-1 to P arm and values 1-0 or 1-2 to arm Q\n",
    "# 0 represents telomeric regions and 1 is centromeric region\n",
    "# 0 and 2 are telomeric regions and 1 is centromeric region\n",
    "def create_Centromere_Telomere_vector(fl):\n",
    "    #read EV file cis/trans\n",
    "    f1 = pd.read_csv('MC-HiC-DpnII-WI38-'+fl+'.cis.vecs.tsv', sep='\\t', header=0)\n",
    "    #get the columns required and add column CT to maindf\n",
    "    f1 = f1.reindex(columns = ['chrom','start','end','weight','E1','CT']) \n",
    "    #file having centromeric regions of hg38\n",
    "    file_c = pd.read_csv('Centromeres.tsv', sep='\\t', header=0)\n",
    "    for index,row in file_c.iterrows():\n",
    "        #extract rows for single chr arm 1\n",
    "        f2=f1[(f1['chrom']==row['chrom']) & (f1['end']<row['chromStart'])]\n",
    "        # assign values between 0-1 for all bins , 0-telomere and 1 centromere\n",
    "        x=np.arange(0,1,1/len(f2))\n",
    "        #get index value from main df to fill CT column\n",
    "        s=f2.index[0]\n",
    "        #set CT column \n",
    "        for i in range(len(f2)):\n",
    "            f1.iloc[s+i,f1.columns.get_loc('CT')]=x[i]\n",
    "        \n",
    "        #extract rows for single chr arm 2\n",
    "        f3=f1[(f1['chrom']==row['chrom']) & (f1['start']>row['chromEnd'])]\n",
    "        #assign values 1-0 to arm q, 1 being centromere\n",
    "        #y=np.flip(np.arange(0,1,1/len(f3)))\n",
    "        #assign values 1-2, 1 being centromere and 2 is telomere\n",
    "        y=np.arange(1,2,1/len(f3))\n",
    "        s=f3.index[0]\n",
    "        for i in range(len(f3)):\n",
    "            f1.iloc[s+i,f1.columns.get_loc('CT')]=y[i]\n",
    "            \n",
    "    print(fl)\n",
    "    print(f1.head(20))\n",
    "    f1.to_csv(\"temp.tsv\",sep='\\t')\n",
    "    #f1.to_csv(\"Test/\"+fl+\"_Cent.vecs.tsv\",sep='\\t')"
   ]
  },
  {
   "cell_type": "code",
   "execution_count": 5,
   "metadata": {},
   "outputs": [
    {
     "name": "stdout",
     "output_type": "stream",
     "text": [
      "hTERT-TP2-R1\n",
      "   chrom    start      end    weight        E1        CT\n",
      "0   chr1        0   250000       NaN       NaN  0.000000\n",
      "1   chr1   250000   500000       NaN       NaN  0.002049\n",
      "2   chr1   500000   750000       NaN       NaN  0.004098\n",
      "3   chr1   750000  1000000       NaN       NaN  0.006148\n",
      "4   chr1  1000000  1250000  0.018693 -1.511687  0.008197\n",
      "5   chr1  1250000  1500000       NaN       NaN  0.010246\n",
      "6   chr1  1500000  1750000       NaN       NaN  0.012295\n",
      "7   chr1  1750000  2000000  0.016406 -1.242776  0.014344\n",
      "8   chr1  2000000  2250000  0.016779 -0.844064  0.016393\n",
      "9   chr1  2250000  2500000  0.015121 -0.487811  0.018443\n",
      "10  chr1  2500000  2750000       NaN       NaN  0.020492\n",
      "11  chr1  2750000  3000000  0.018081  0.558908  0.022541\n",
      "12  chr1  3000000  3250000  0.015517  0.562882  0.024590\n",
      "13  chr1  3250000  3500000  0.015703  0.354808  0.026639\n",
      "14  chr1  3500000  3750000  0.014790 -0.044556  0.028689\n",
      "15  chr1  3750000  4000000  0.013368  0.357898  0.030738\n",
      "16  chr1  4000000  4250000  0.014840  0.588118  0.032787\n",
      "17  chr1  4250000  4500000  0.015447  0.769689  0.034836\n",
      "18  chr1  4500000  4750000  0.015265  0.758856  0.036885\n",
      "19  chr1  4750000  5000000  0.015557  0.691396  0.038934\n"
     ]
    }
   ],
   "source": [
    "for f in range(1):\n",
    "    create_Centromere_Telomere_vector(names[f])"
   ]
  },
  {
   "cell_type": "markdown",
   "metadata": {},
   "source": [
    "# cooltool command used to generate saddle plots using the above generated track\n",
    "cooltools compute-saddle (coolerfile)MC-HiC-DpnII-WI38-hTERT-TP2-R1__hg38.hg38.mapq_30.1000.mcool::/resolutions/250000 (Track file)hTERT-TP2-R1_Cent.vecs.tsv.tsv::CT (Expected track)hTERT-TP2-R1trans.tsv -o hTERT-TP2-R1_short --fig png --vmin 0.8 --vmax 1.25 -t trans"
   ]
  }
 ],
 "metadata": {
  "kernelspec": {
   "display_name": "Python 3",
   "language": "python",
   "name": "python3"
  },
  "language_info": {
   "codemirror_mode": {
    "name": "ipython",
    "version": 3
   },
   "file_extension": ".py",
   "mimetype": "text/x-python",
   "name": "python",
   "nbconvert_exporter": "python",
   "pygments_lexer": "ipython3",
   "version": "3.8.2"
  }
 },
 "nbformat": 4,
 "nbformat_minor": 4
}
