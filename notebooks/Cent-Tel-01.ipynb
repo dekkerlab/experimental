{
 "cells": [
  {
   "cell_type": "code",
   "execution_count": 10,
   "metadata": {},
   "outputs": [],
   "source": [
    "import pandas as pd\n",
    "import numpy as np"
   ]
  },
  {
   "cell_type": "code",
   "execution_count": 22,
   "metadata": {},
   "outputs": [],
   "source": [
    "files =[\n",
    "    'MC-HiC-DpnII-WI38-hTERT-TP2-R1.cis.vecs.tsv',\n",
    "    'MC-HiC-DpnII-WI38-hTERT-TP4-R1-1.cis.vecs.tsv',\n",
    "    'MC-HiC-DpnII-WI38-hTERT-TP4-R1-2.cis.vecs.tsv',\n",
    "    'MC-HiC-DpnII-WI38-hTERT-TP5-R1.cis.vecs.tsv',\n",
    "    'MC-HiC-DpnII-WI38-hTERT-TP6-R1.cis.vecs.tsv',\n",
    "    'MC-HiC-DpnII-WI38-PDL25-TP2-R1.cis.vecs.tsv',\n",
    "    'MC-HiC-DpnII-WI38-PDL33-TP4-R1.cis.vecs.tsv',\n",
    "    'MC-HiC-DpnII-WI38-PDL37-TP5-R1.cis.vecs.tsv',\n",
    "    'MC-HiC-DpnII-WI38-PDL46-TP6-R1.cis.vecs.tsv'\n",
    "]\n",
    "\n",
    "names= [\n",
    "    'hTERT-TP2-R1',\n",
    "    'hTERT-TP4-R1-1',\n",
    "    'hTERT-TP4-R1-2',\n",
    "    'hTERT-TP5-R1',\n",
    "    'hTERT-TP6-R1',\n",
    "    'PDL25-TP2-R1',\n",
    "    'PDL33-TP4-R1',\n",
    "    'PDL37-TP5-R1',\n",
    "    'PDL46-TP6-R1'\n",
    "]"
   ]
  },
  {
   "cell_type": "code",
   "execution_count": 23,
   "metadata": {},
   "outputs": [
    {
     "name": "stdout",
     "output_type": "stream",
     "text": [
      "0\n",
      "1\n",
      "2\n",
      "3\n",
      "4\n",
      "5\n",
      "6\n",
      "7\n",
      "8\n"
     ]
    }
   ],
   "source": [
    "for f in range(9):\n",
    "    f1 = pd.read_csv(files[f], sep='\\t', header=0)\n",
    "    f1 = f1.reindex(columns = ['chrom','start','end','weight','CT'])   \n",
    "    file_c = pd.read_csv('Centromeres.tsv', sep='\\t', header=0)\n",
    "    for index,row in file_c.iterrows():\n",
    "        f2=f1[(f1['chrom']==row['chrom']) & (f1['start']<row['chromStart'])& (f1['end']<row['chromStart'])]\n",
    "        x=np.arange(0,1,1/len(f2))\n",
    "        s=f2.index[0]\n",
    "        for i in range(len(f2)):\n",
    "            w1=f1.iloc[s+i,f1.columns.get_loc('weight')]\n",
    "            if (not np.isnan(w1)):\n",
    "                f1.iloc[s+i,f1.columns.get_loc('CT')]=x[i]\n",
    "            else:\n",
    "                f1.iloc[s+i,f1.columns.get_loc('CT')]=np.nan\n",
    "\n",
    "        f3=f1[(f1['chrom']==row['chrom']) & (f1['start']>row['chromEnd'])& (f1['end']>row['chromEnd'])]\n",
    "        y=np.flip(np.arange(0,1,1/len(f3)))\n",
    "        s=f3.index[0]\n",
    "        for i in range(len(f3)):\n",
    "            w2=f1.iloc[s+i,f1.columns.get_loc('weight')]\n",
    "            if (not np.isnan(w2)):\n",
    "                f1.iloc[s+i,f1.columns.get_loc('CT')]=y[i]\n",
    "            else:\n",
    "                f1.iloc[s+i,f1.columns.get_loc('CT')]=np.nan\n",
    "    #print(f)\n",
    "    f1.to_csv(names[f]+\"_Cent.cis.vecs.tsv\",sep='\\t')"
   ]
  },
  {
   "cell_type": "code",
   "execution_count": 9,
   "metadata": {},
   "outputs": [],
   "source": []
  }
 ],
 "metadata": {
  "kernelspec": {
   "display_name": "Python 3",
   "language": "python",
   "name": "python3"
  },
  "language_info": {
   "codemirror_mode": {
    "name": "ipython",
    "version": 3
   },
   "file_extension": ".py",
   "mimetype": "text/x-python",
   "name": "python",
   "nbconvert_exporter": "python",
   "pygments_lexer": "ipython3",
   "version": "3.6.9"
  }
 },
 "nbformat": 4,
 "nbformat_minor": 2
}
